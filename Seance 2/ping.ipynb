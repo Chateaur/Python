{
 "cells": [
  {
   "cell_type": "markdown",
   "metadata": {},
   "source": [
    "# Ping"
   ]
  },
  {
   "cell_type": "markdown",
   "metadata": {},
   "source": [
    "Import des librairies"
   ]
  },
  {
   "cell_type": "code",
   "execution_count": 1,
   "metadata": {
    "collapsed": true
   },
   "outputs": [],
   "source": [
    "import pandas as pd\n",
    "import numpy as np\n",
    "import csv"
   ]
  },
  {
   "cell_type": "markdown",
   "metadata": {},
   "source": [
    "Création des séries"
   ]
  },
  {
   "cell_type": "code",
   "execution_count": 58,
   "metadata": {
    "collapsed": false
   },
   "outputs": [],
   "source": [
    "dominantes = pd.Series([\"Architecture et Sécurité des Réseaux\", \n",
    "                        \"Big Data pour la Transformation Numérique\",\n",
    "                        \"Ingénieur d’Affaires : Informatique et Réseaux\",\n",
    "                        \"Ingénierie des Services du Numérique\",\n",
    "                        \"Ingénieur Finance\",\n",
    "                        \"Automatique et Robotique Industrielle\",\n",
    "                        \"Énergie et Développement Durable\",\n",
    "                        \"Génie Électrique et Transport\",\n",
    "                        \"Ingénieur d’Affaires : Distribution Énergie et Signaux\",\n",
    "                        \"Mécatronique Génie Électrique\",\n",
    "                        \"Ingénierie des Systèmes Embarqués : Véhicule Autonome\",\n",
    "                        \"Ingénierie des Systèmes Embarqués : Objets Communicants\",\n",
    "                        \"Ingénierie des Systèmes Médicaux\",\n",
    "                        \"Electronique des Systèmes pour l’Automobile et l’Aéronautique\",\n",
    "                        \"Ingénierie Télécom\"]\n",
    "                       ,index=[\"ASR\",\n",
    "                               \"BDTN\",\n",
    "                               \"IA-IR\",\n",
    "                               \"ISN\",\n",
    "                               \"IF\",\n",
    "                               \"ARI\",\n",
    "                               \"EDD\",\n",
    "                               \"GET\",\n",
    "                               \"IA-DES\",\n",
    "                               \"MCTGE\",\n",
    "                               \"ISE-VA\",\n",
    "                               \"ISE-OC\",\n",
    "                               \"ISYMED\",\n",
    "                               \"ESAA\",\n",
    "                               \"ICOM\"])"
   ]
  },
  {
   "cell_type": "code",
   "execution_count": 59,
   "metadata": {
    "collapsed": false
   },
   "outputs": [
    {
     "data": {
      "text/plain": [
       "ASR                    Architecture et Sécurité des Réseaux\n",
       "BDTN              Big Data pour la Transformation Numérique\n",
       "IA-IR        Ingénieur d’Affaires : Informatique et Réseaux\n",
       "ISN                    Ingénierie des Services du Numérique\n",
       "IF                                        Ingénieur Finance\n",
       "ARI                   Automatique et Robotique Industrielle\n",
       "EDD                        Énergie et Développement Durable\n",
       "GET                           Génie Électrique et Transport\n",
       "IA-DES    Ingénieur d’Affaires : Distribution Énergie et...\n",
       "MCTGE                         Mécatronique Génie Électrique\n",
       "ISE-VA    Ingénierie des Systèmes Embarqués : Véhicule A...\n",
       "ISE-OC    Ingénierie des Systèmes Embarqués : Objets Com...\n",
       "ISYMED                     Ingénierie des Systèmes Médicaux\n",
       "ESAA      Electronique des Systèmes pour l’Automobile et...\n",
       "ICOM                                     Ingénierie Télécom\n",
       "dtype: object"
      ]
     },
     "execution_count": 59,
     "metadata": {},
     "output_type": "execute_result"
    }
   ],
   "source": [
    "dominantes"
   ]
  },
  {
   "cell_type": "code",
   "execution_count": 60,
   "metadata": {
    "collapsed": false
   },
   "outputs": [],
   "source": [
    "departements = pd.Series([\"GEE\",\n",
    "                          \"TIC\",\n",
    "                          \"TIC\",\n",
    "                          \"TIC\",\n",
    "                          \"TIC\", \n",
    "                          \"GEE\",\n",
    "                          \"GEE\",\n",
    "                          \"GEE\",\n",
    "                          \"GEE\",\n",
    "                          \"ET\",\n",
    "                          \"ET\", \n",
    "                          \"GEE\",\n",
    "                          \"GEE\",\n",
    "                          \"TIC\",\n",
    "                          \"TIC\"]\n",
    "                        ,index=[\"ASR\",\n",
    "                               \"BDTN\",\n",
    "                               \"IA-IR\",\n",
    "                               \"ISN\",\n",
    "                               \"IF\",\n",
    "                               \"ARI\",\n",
    "                               \"EDD\",\n",
    "                               \"GET\",\n",
    "                               \"IA-DES\",\n",
    "                               \"MCTGE\",\n",
    "                               \"ISE-VA\",\n",
    "                               \"ISE-OC\",\n",
    "                               \"ISYMED\",\n",
    "                               \"ESAA\",\n",
    "                               \"ICOM\"])"
   ]
  },
  {
   "cell_type": "code",
   "execution_count": 61,
   "metadata": {
    "collapsed": false
   },
   "outputs": [],
   "source": [
    "myData = pd.DataFrame(dominantes, columns=['Dominantes'])\n",
    "myData['Departement'] = departements\n",
    "myData['Code'] = dominantes.index"
   ]
  },
  {
   "cell_type": "code",
   "execution_count": 62,
   "metadata": {
    "collapsed": false
   },
   "outputs": [
    {
     "data": {
      "text/html": [
       "<div>\n",
       "<table border=\"1\" class=\"dataframe\">\n",
       "  <thead>\n",
       "    <tr style=\"text-align: right;\">\n",
       "      <th></th>\n",
       "      <th>Dominantes</th>\n",
       "      <th>Departement</th>\n",
       "      <th>Code</th>\n",
       "    </tr>\n",
       "  </thead>\n",
       "  <tbody>\n",
       "    <tr>\n",
       "      <th>ASR</th>\n",
       "      <td>Architecture et Sécurité des Réseaux</td>\n",
       "      <td>GEE</td>\n",
       "      <td>ASR</td>\n",
       "    </tr>\n",
       "    <tr>\n",
       "      <th>BDTN</th>\n",
       "      <td>Big Data pour la Transformation Numérique</td>\n",
       "      <td>TIC</td>\n",
       "      <td>BDTN</td>\n",
       "    </tr>\n",
       "    <tr>\n",
       "      <th>IA-IR</th>\n",
       "      <td>Ingénieur d’Affaires : Informatique et Réseaux</td>\n",
       "      <td>TIC</td>\n",
       "      <td>IA-IR</td>\n",
       "    </tr>\n",
       "    <tr>\n",
       "      <th>ISN</th>\n",
       "      <td>Ingénierie des Services du Numérique</td>\n",
       "      <td>TIC</td>\n",
       "      <td>ISN</td>\n",
       "    </tr>\n",
       "    <tr>\n",
       "      <th>IF</th>\n",
       "      <td>Ingénieur Finance</td>\n",
       "      <td>TIC</td>\n",
       "      <td>IF</td>\n",
       "    </tr>\n",
       "  </tbody>\n",
       "</table>\n",
       "</div>"
      ],
      "text/plain": [
       "                                           Dominantes Departement   Code\n",
       "ASR              Architecture et Sécurité des Réseaux         GEE    ASR\n",
       "BDTN        Big Data pour la Transformation Numérique         TIC   BDTN\n",
       "IA-IR  Ingénieur d’Affaires : Informatique et Réseaux         TIC  IA-IR\n",
       "ISN              Ingénierie des Services du Numérique         TIC    ISN\n",
       "IF                                  Ingénieur Finance         TIC     IF"
      ]
     },
     "execution_count": 62,
     "metadata": {},
     "output_type": "execute_result"
    }
   ],
   "source": [
    "myData.head()"
   ]
  },
  {
   "cell_type": "code",
   "execution_count": 111,
   "metadata": {
    "collapsed": true
   },
   "outputs": [],
   "source": [
    "departList = pd.Series([ \"GEE\",\n",
    "                        \"TIC\",\n",
    "                        \"ET\"])"
   ]
  },
  {
   "cell_type": "code",
   "execution_count": 63,
   "metadata": {
    "collapsed": true
   },
   "outputs": [],
   "source": [
    "prenoms = pd.Series([\"Lucas\",\n",
    "\"Romain\",\n",
    "\"Charly\",\n",
    "\"Abdou\",\n",
    "\"Vincent\",\n",
    "\"Paul\" ])"
   ]
  },
  {
   "cell_type": "code",
   "execution_count": 81,
   "metadata": {
    "collapsed": true
   },
   "outputs": [],
   "source": [
    "codeDominantes = pd.Series([\"ICOM\",\n",
    "\"BDTN\",\n",
    "\"ICOM\",\n",
    "\"EDD\",\n",
    "\"IA-IR\",\n",
    "\"ISYMED\" ])"
   ]
  },
  {
   "cell_type": "code",
   "execution_count": 82,
   "metadata": {
    "collapsed": false
   },
   "outputs": [
    {
     "name": "stdout",
     "output_type": "stream",
     "text": [
      "     Code   Prénom\n",
      "0    ICOM    Lucas\n",
      "1    BDTN   Romain\n",
      "2    ICOM   Charly\n",
      "3     EDD    Abdou\n",
      "4   IA-IR  Vincent\n",
      "5  ISYMED     Paul\n"
     ]
    }
   ],
   "source": [
    "pingMembers = pd.DataFrame({ 'Prénom' : prenoms,\n",
    "'Code': codeDominantes})\n",
    "print(pingMembers)"
   ]
  },
  {
   "cell_type": "markdown",
   "metadata": {},
   "source": [
    "Calcul du poucentage d'élèves par département"
   ]
  },
  {
   "cell_type": "code",
   "execution_count": 101,
   "metadata": {
    "collapsed": false
   },
   "outputs": [],
   "source": [
    "pingDepartements = pingMembers['Code'].apply(lambda x: myData.loc[x]['Departement'])"
   ]
  },
  {
   "cell_type": "code",
   "execution_count": 117,
   "metadata": {
    "collapsed": false,
    "scrolled": true
   },
   "outputs": [
    {
     "name": "stdout",
     "output_type": "stream",
     "text": [
      "Il y a 33.33333333333333% élève(s) du département GEE dans ce ping\n",
      "Il y a 66.66666666666666% élève(s) du département TIC dans ce ping\n",
      "Il y a 0.0% élève(s) du département ET dans ce ping\n"
     ]
    }
   ],
   "source": [
    "for depart in departList.iteritems():\n",
    "    count = pingDepartements[pingDepartements == depart[1] ].count()\n",
    "    percentage = count / pingMembers['Prénom'].count() * 100\n",
    "    print(\"Il y a {}% élève(s) du département {} dans ce ping\".format(percentage,depart[1]))"
   ]
  },
  {
   "cell_type": "markdown",
   "metadata": {},
   "source": [
    "Sauvegarde des résultats sous csv"
   ]
  },
  {
   "cell_type": "code",
   "execution_count": null,
   "metadata": {
    "collapsed": true
   },
   "outputs": [],
   "source": [
    "writer = csv.writer(open(\"/path/to/my/csv/file\", 'w'))\n",
    "\n",
    "for depart in departList.iteritems():\n",
    "    count = pingDepartements[pingDepartements == depart[1] ].count()\n",
    "    percentage = count / pingMembers['Prénom'].count() * 100\n",
    "    writer.writerow(\"percent : {}; dept : {}\".format(percentage,depart[1]))\n",
    "    "
   ]
  }
 ],
 "metadata": {
  "anaconda-cloud": {},
  "kernelspec": {
   "display_name": "Python [default]",
   "language": "python",
   "name": "python3"
  },
  "language_info": {
   "codemirror_mode": {
    "name": "ipython",
    "version": 3
   },
   "file_extension": ".py",
   "mimetype": "text/x-python",
   "name": "python",
   "nbconvert_exporter": "python",
   "pygments_lexer": "ipython3",
   "version": "3.5.2"
  }
 },
 "nbformat": 4,
 "nbformat_minor": 1
}
