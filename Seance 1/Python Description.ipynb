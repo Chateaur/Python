{
 "cells": [
  {
   "cell_type": "markdown",
   "metadata": {},
   "source": [
    "# Avantages / Inconvénients Python"
   ]
  },
  {
   "cell_type": "markdown",
   "metadata": {},
   "source": [
    "## Avantages\n",
    "* Pas d'inscruction de fin de commande\n",
    "* Meilleure lisibilité du code grâce à l'indentation du obligatoire des boucles\n",
    "* Beaucoup de librairies disponibles (à vérifier et approfondir)\n",
    "* Pas forcément besoin d'un IDE\n",
    "\n",
    "## Désavantages\n",
    "* Erreurs liées à l'indentation de fin de boucle\n",
    "* Flexibilités au niveau des classes (créer un attribut à la volée ...)\n",
    "\n",
    "## Sources\n",
    "http://sametmax.com/10-raisons-pour-lesquelles-je-suis-toujours-marie-a-python/"
   ]
  },
  {
   "cell_type": "markdown",
   "metadata": {},
   "source": [
    "# Cas d'utilsiation pour les 4 structures de données intégrées"
   ]
  },
  {
   "cell_type": "markdown",
   "metadata": {},
   "source": [
    "## List\n",
    "Les listes sont modifiables. Elles doivent donc être utilisées uniquement lorsque l'on sait que cette liste est suceptible d'évoluer."
   ]
  },
  {
   "cell_type": "code",
   "execution_count": 6,
   "metadata": {
    "collapsed": false
   },
   "outputs": [
    {
     "name": "stdout",
     "output_type": "stream",
     "text": [
      "['Tom', 'Snappy', 'Kitty', 'Jessie', 'Chester', 'Minou']\n"
     ]
    }
   ],
   "source": [
    "cats = ['Tom', 'Snappy', 'Kitty', 'Jessie', 'Chester']\n",
    "cats.append('Minou')\n",
    "\n",
    "print(cats)"
   ]
  },
  {
   "cell_type": "code",
   "execution_count": 8,
   "metadata": {
    "collapsed": false
   },
   "outputs": [
    {
     "name": "stdout",
     "output_type": "stream",
     "text": [
      "['Kitty', 'Jessie', 'Chester', 'Minou']\n"
     ]
    }
   ],
   "source": [
    "del cats[0]\n",
    "\n",
    "print(cats)"
   ]
  },
  {
   "cell_type": "markdown",
   "metadata": {},
   "source": [
    "## Tuple\n",
    "Les tuples sont comme des listes mais non modifiables. Elles ont donc l'avantage d'être plus rapide pour les manipulations (extractions etc ...) que les listes."
   ]
  },
  {
   "cell_type": "code",
   "execution_count": 2,
   "metadata": {
    "collapsed": true
   },
   "outputs": [],
   "source": [
    "months = ('January','February','March','April','May','June',\\\n",
    "'July','August','September','October','November','  December')"
   ]
  },
  {
   "cell_type": "markdown",
   "metadata": {},
   "source": [
    "## Dictionnaires\n",
    "    Les dictionnaires fonctionnent sur un système de clé-valeurs. On a donc un index."
   ]
  },
  {
   "cell_type": "code",
   "execution_count": 11,
   "metadata": {
    "collapsed": false
   },
   "outputs": [
    {
     "name": "stdout",
     "output_type": "stream",
     "text": [
      "{'Andrew': 78, 'Karren': 45, 'Sue': 23, 'Peter': 19}\n"
     ]
    }
   ],
   "source": [
    "ages = {}\n",
    "\n",
    "#Ajout de données\n",
    "ages['Sue'] = 23\n",
    "ages['Peter'] = 19\n",
    "ages['Andrew'] = 78\n",
    "ages['Karren'] = 45\n",
    "\n",
    "print(ages)"
   ]
  },
  {
   "cell_type": "markdown",
   "metadata": {},
   "source": [
    "Il est très facile de retrouver une valeur associée à la clé en connaissant cette clé."
   ]
  },
  {
   "cell_type": "code",
   "execution_count": 15,
   "metadata": {
    "collapsed": false
   },
   "outputs": [
    {
     "name": "stdout",
     "output_type": "stream",
     "text": [
      "Sue est dans le dictionnaire. Son age :  23\n"
     ]
    }
   ],
   "source": [
    "if 'Sue' in ages:\n",
    "    print (\"Sue est dans le dictionnaire. Son age : \", ages['Sue'])\n",
    "\n",
    "else:\n",
    "    print (\"Sue n'est pas dans le dictionnaire\")"
   ]
  },
  {
   "cell_type": "markdown",
   "metadata": {},
   "source": [
    "## Set\n",
    "Un set est une collection d'éléments uniques non ordonnée. On va pouvoir l'utiliser pour supprimer des doublons et pour des opérations mathématiques telles que union, intersection ... plus rapidement qu'avec une liste."
   ]
  },
  {
   "cell_type": "code",
   "execution_count": 17,
   "metadata": {
    "collapsed": false
   },
   "outputs": [
    {
     "ename": "NameError",
     "evalue": "name 'Set' is not defined",
     "output_type": "error",
     "traceback": [
      "\u001b[0;31m---------------------------------------------------------------------------\u001b[0m",
      "\u001b[0;31mNameError\u001b[0m                                 Traceback (most recent call last)",
      "\u001b[0;32m<ipython-input-17-042a06ea8986>\u001b[0m in \u001b[0;36m<module>\u001b[0;34m()\u001b[0m\n\u001b[1;32m      1\u001b[0m \u001b[1;33m\u001b[0m\u001b[0m\n\u001b[0;32m----> 2\u001b[0;31m \u001b[0mengineers\u001b[0m \u001b[1;33m=\u001b[0m \u001b[0mSet\u001b[0m\u001b[1;33m(\u001b[0m\u001b[1;33m[\u001b[0m\u001b[1;34m'John'\u001b[0m\u001b[1;33m,\u001b[0m \u001b[1;34m'Jane'\u001b[0m\u001b[1;33m,\u001b[0m \u001b[1;34m'Jack'\u001b[0m\u001b[1;33m,\u001b[0m \u001b[1;34m'Janice'\u001b[0m\u001b[1;33m]\u001b[0m\u001b[1;33m)\u001b[0m\u001b[1;33m\u001b[0m\u001b[0m\n\u001b[0m\u001b[1;32m      3\u001b[0m \u001b[0mprogrammers\u001b[0m \u001b[1;33m=\u001b[0m \u001b[0mSet\u001b[0m\u001b[1;33m(\u001b[0m\u001b[1;33m[\u001b[0m\u001b[1;34m'Jack'\u001b[0m\u001b[1;33m,\u001b[0m \u001b[1;34m'Sam'\u001b[0m\u001b[1;33m,\u001b[0m \u001b[1;34m'Susan'\u001b[0m\u001b[1;33m,\u001b[0m \u001b[1;34m'Janice'\u001b[0m\u001b[1;33m]\u001b[0m\u001b[1;33m)\u001b[0m\u001b[1;33m\u001b[0m\u001b[0m\n\u001b[1;32m      4\u001b[0m \u001b[0mmanagers\u001b[0m \u001b[1;33m=\u001b[0m \u001b[0mSet\u001b[0m\u001b[1;33m(\u001b[0m\u001b[1;33m[\u001b[0m\u001b[1;34m'Jane'\u001b[0m\u001b[1;33m,\u001b[0m \u001b[1;34m'Jack'\u001b[0m\u001b[1;33m,\u001b[0m \u001b[1;34m'Susan'\u001b[0m\u001b[1;33m,\u001b[0m \u001b[1;34m'Zack'\u001b[0m\u001b[1;33m]\u001b[0m\u001b[1;33m)\u001b[0m\u001b[1;33m\u001b[0m\u001b[0m\n\u001b[1;32m      5\u001b[0m \u001b[0memployees\u001b[0m \u001b[1;33m=\u001b[0m \u001b[0mengineers\u001b[0m \u001b[1;33m|\u001b[0m \u001b[0mprogrammers\u001b[0m \u001b[1;33m|\u001b[0m \u001b[0mmanagers\u001b[0m           \u001b[1;31m# union\u001b[0m\u001b[1;33m\u001b[0m\u001b[0m\n",
      "\u001b[0;31mNameError\u001b[0m: name 'Set' is not defined"
     ]
    }
   ],
   "source": [
    "asket = {'apple', 'orange', 'apple', 'pear', 'orange', 'banana'}\n",
    "print(basket)                      # duplicatas enlevés\n",
    "{'orange', 'banana', 'pear', 'apple'}\n",
    ">>> 'orange' in basket                 # fast membership testing\n",
    "True\n",
    ">>> 'crabgrass' in basket\n",
    "False"
   ]
  },
  {
   "cell_type": "markdown",
   "metadata": {},
   "source": [
    "# Conclusion\n",
    "La liste est un object peut être trop général. Les trois autres éléments sont des spécialisations de "
   ]
  },
  {
   "cell_type": "markdown",
   "metadata": {},
   "source": [
    "# Sources\n",
    "http://sthurlow.com/python/lesson06/\n",
    "https://docs.python.org/2/library/sets.html"
   ]
  },
  {
   "cell_type": "code",
   "execution_count": null,
   "metadata": {
    "collapsed": true
   },
   "outputs": [],
   "source": []
  }
 ],
 "metadata": {
  "kernelspec": {
   "display_name": "Python [default]",
   "language": "python",
   "name": "python3"
  },
  "language_info": {
   "codemirror_mode": {
    "name": "ipython",
    "version": 3
   },
   "file_extension": ".py",
   "mimetype": "text/x-python",
   "name": "python",
   "nbconvert_exporter": "python",
   "pygments_lexer": "ipython3",
   "version": "3.5.2"
  }
 },
 "nbformat": 4,
 "nbformat_minor": 1
}
