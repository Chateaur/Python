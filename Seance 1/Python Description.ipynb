{
 "cells": [
  {
   "cell_type": "markdown",
   "metadata": {},
   "source": [
    "# Avantages / Inconvénients Python"
   ]
  },
  {
   "cell_type": "markdown",
   "metadata": {},
   "source": [
    "## Avantages\n",
    "* Pas d'inscruction de fin de commande\n",
    "* Meilleure lisibilité du code grâce à l'indentation du obligatoire des boucles\n",
    "* Beaucoup de librairies disponibles (à vérifier et approfondir)\n",
    "* Pas forcément besoin d'un IDE\n",
    "\n",
    "## Désavantages\n",
    "* Erreurs liées à l'indentation de fin de boucle\n",
    "* Flexibilités au niveau des classes (créer un attribut à la volée ...)\n",
    "\n",
    "## Sources\n",
    "http://sametmax.com/10-raisons-pour-lesquelles-je-suis-toujours-marie-a-python/"
   ]
  },
  {
   "cell_type": "markdown",
   "metadata": {},
   "source": [
    "# Cas d'utilsiation pour les 4 structures de données intégrées"
   ]
  },
  {
   "cell_type": "markdown",
   "metadata": {},
   "source": [
    "## List\n",
    "Les listes sont modifiables. Elles doivent donc être utilisées uniquement lorsque l'on sait que cette liste est suceptible d'évoluer."
   ]
  },
  {
   "cell_type": "code",
   "execution_count": 18,
   "metadata": {
    "collapsed": false
   },
   "outputs": [
    {
     "name": "stdout",
     "output_type": "stream",
     "text": [
      "['Tom', 'Snappy', 'Kitty', 'Jessie', 'Chester', 'Minou']\n"
     ]
    }
   ],
   "source": [
    "cats = ['Tom', 'Snappy', 'Kitty', 'Jessie', 'Chester']\n",
    "cats.append('Minou')\n",
    "\n",
    "print(cats)"
   ]
  },
  {
   "cell_type": "code",
   "execution_count": 19,
   "metadata": {
    "collapsed": false
   },
   "outputs": [
    {
     "name": "stdout",
     "output_type": "stream",
     "text": [
      "['Snappy', 'Kitty', 'Jessie', 'Chester', 'Minou']\n"
     ]
    }
   ],
   "source": [
    "del cats[0]\n",
    "\n",
    "print(cats)"
   ]
  },
  {
   "cell_type": "markdown",
   "metadata": {},
   "source": [
    "## Tuple\n",
    "Les tuples sont comme des listes mais non modifiables. Elles ont donc l'avantage d'être plus rapide pour les manipulations (extractions etc ...) que les listes."
   ]
  },
  {
   "cell_type": "code",
   "execution_count": 20,
   "metadata": {
    "collapsed": true
   },
   "outputs": [],
   "source": [
    "months = ('January','February','March','April','May','June',\\\n",
    "'July','August','September','October','November','  December')"
   ]
  },
  {
   "cell_type": "markdown",
   "metadata": {},
   "source": [
    "## Dictionnaires\n",
    "Les dictionnaires fonctionnent sur un système de clé-valeurs. On a donc un index."
   ]
  },
  {
   "cell_type": "code",
   "execution_count": 21,
   "metadata": {
    "collapsed": false
   },
   "outputs": [
    {
     "name": "stdout",
     "output_type": "stream",
     "text": [
      "{'Andrew': 78, 'Karren': 45, 'Sue': 23, 'Peter': 19}\n"
     ]
    }
   ],
   "source": [
    "ages = {}\n",
    "\n",
    "#Ajout de données\n",
    "ages['Sue'] = 23\n",
    "ages['Peter'] = 19\n",
    "ages['Andrew'] = 78\n",
    "ages['Karren'] = 45\n",
    "\n",
    "print(ages)"
   ]
  },
  {
   "cell_type": "markdown",
   "metadata": {},
   "source": [
    "Il est très facile de retrouver une valeur associée à la clé en connaissant cette clé."
   ]
  },
  {
   "cell_type": "code",
   "execution_count": 22,
   "metadata": {
    "collapsed": false
   },
   "outputs": [
    {
     "name": "stdout",
     "output_type": "stream",
     "text": [
      "Sue est dans le dictionnaire. Son age :  23\n"
     ]
    }
   ],
   "source": [
    "if 'Sue' in ages:\n",
    "    print (\"Sue est dans le dictionnaire. Son age : \", ages['Sue'])\n",
    "\n",
    "else:\n",
    "    print (\"Sue n'est pas dans le dictionnaire\")"
   ]
  },
  {
   "cell_type": "markdown",
   "metadata": {},
   "source": [
    "## Set\n",
    "Un set est une collection d'éléments uniques non ordonnée. On va pouvoir l'utiliser pour supprimer des doublons et pour des opérations mathématiques telles que union, intersection ... plus rapidement qu'avec une liste."
   ]
  },
  {
   "cell_type": "code",
   "execution_count": 27,
   "metadata": {
    "collapsed": false
   },
   "outputs": [
    {
     "name": "stdout",
     "output_type": "stream",
     "text": [
      "{'banana', 'apple', 'orange', 'pear'}\n",
      "True\n",
      "False\n"
     ]
    }
   ],
   "source": [
    "basket = {'apple', 'orange', 'apple', 'pear', 'orange', 'banana'}\n",
    "print(basket)                      # duplicatas enlevés\n",
    "print('orange' in basket)                 # test de présence rapide\n",
    "print('crabgrass' in basket)"
   ]
  },
  {
   "cell_type": "code",
   "execution_count": 1,
   "metadata": {
    "collapsed": false
   },
   "outputs": [
    {
     "data": {
      "text/plain": [
       "['a', 'b', 'c', 1, 2, 3]"
      ]
     },
     "execution_count": 1,
     "metadata": {},
     "output_type": "execute_result"
    }
   ],
   "source": []
  },
  {
   "cell_type": "markdown",
   "metadata": {},
   "source": [
    "# Conclusion\n",
    "La liste est un object peut être trop général. Les trois autres éléments sont des spécialisations de l'objet liste. Il convient donc d'utiliser le bon objet en fonction de la situation."
   ]
  },
  {
   "cell_type": "markdown",
   "metadata": {},
   "source": [
    "# Sources\n",
    "http://sthurlow.com/python/lesson06/\n",
    "https://docs.python.org/2/library/sets.html"
   ]
  }
 ],
 "metadata": {
  "anaconda-cloud": {},
  "kernelspec": {
   "display_name": "Python [default]",
   "language": "python",
   "name": "python3"
  },
  "language_info": {
   "codemirror_mode": {
    "name": "ipython",
    "version": 3
   },
   "file_extension": ".py",
   "mimetype": "text/x-python",
   "name": "python",
   "nbconvert_exporter": "python",
   "pygments_lexer": "ipython3",
   "version": "3.5.2"
  }
 },
 "nbformat": 4,
 "nbformat_minor": 1
}
