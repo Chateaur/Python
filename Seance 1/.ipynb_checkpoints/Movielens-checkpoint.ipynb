{
 "cells": [
  {
   "cell_type": "markdown",
   "metadata": {},
   "source": [
    "# Reading movielens dataset"
   ]
  },
  {
   "cell_type": "markdown",
   "metadata": {},
   "source": [
    "Disclaimer : Dataset rights\n",
    "\n",
    "F. Maxwell Harper and Joseph A. Konstan. 2015. The MovieLens Datasets:\n",
    "History and Context. ACM Transactions on Interactive Intelligent\n",
    "Systems (TiiS) 5, 4, Article 19 (December 2015), 19 pages.\n",
    "DOI=http://dx.doi.org/10.1145/2827872"
   ]
  },
  {
   "cell_type": "markdown",
   "metadata": {},
   "source": [
    "## Loading data"
   ]
  },
  {
   "cell_type": "code",
   "execution_count": 36,
   "metadata": {
    "collapsed": false,
    "scrolled": true
   },
   "outputs": [
    {
     "name": "stdout",
     "output_type": "stream",
     "text": [
      "C:\\Users\\romai\\Desktop\\Python\\Seance 1\\data\\u.data loaded successfully\n"
     ]
    }
   ],
   "source": [
    "import os\n",
    "pathToFile = os.getcwd() + \"\\\\data\\\\u.data\"\n",
    "\n",
    "try:\n",
    "    dataFile = open(pathToFile)\n",
    "except IOError as e:\n",
    "    print (\"I/O error while loading file %(pathToFile)s: %(errorDesc)s\" % {\"pathToFile\": pathToFile, \"errorDesc\": e.strerror})\n",
    "else:\n",
    "    print(\"%(pathToFile)s loaded successfully\" % {\"pathToFile\": pathToFile})"
   ]
  },
  {
   "cell_type": "code",
   "execution_count": 38,
   "metadata": {
    "collapsed": false
   },
   "outputs": [
    {
     "name": "stdout",
     "output_type": "stream",
     "text": [
      "{'Films with 5 stars : ': 21201, 'Films with 4 stars : ': 34174, 'Films with 2 stars : ': 11370, 'Films with 3 stars : ': 27144, 'Films with 1 star : ': 6110}\n"
     ]
    }
   ],
   "source": [
    "rating = 0\n",
    "ratings = {}\n",
    "ratings[\"Films with 1 star : \"] = 0\n",
    "ratings[\"Films with 2 stars : \"] = 0\n",
    "ratings[\"Films with 3 stars : \"] = 0\n",
    "ratings[\"Films with 4 stars : \"] = 0\n",
    "ratings[\"Films with 5 stars : \"] = 0\n",
    "\n",
    "for line in dataFile:\n",
    "    lineSplitted = line.split()\n",
    "    \n",
    "    rating = int(lineSplitted[2])\n",
    "    \n",
    "    if rating == 1:\n",
    "        ratings[\"Films with 1 star : \"] += 1\n",
    "    elif rating == 2:\n",
    "        ratings[\"Films with 2 stars : \"] += 1\n",
    "    elif rating == 3:\n",
    "        ratings[\"Films with 3 stars : \"] += 1\n",
    "    elif rating == 4:\n",
    "        ratings[\"Films with 4 stars : \"] += 1\n",
    "    elif rating == 5:\n",
    "        ratings[\"Films with 5 stars : \"] += 1\n",
    "    else:\n",
    "        print(\"Unknown note %(note)d !\" % {\"note\": rating})\n",
    "\n",
    "print(ratings)    \n"
   ]
  }
 ],
 "metadata": {
  "kernelspec": {
   "display_name": "Python [default]",
   "language": "python",
   "name": "python3"
  },
  "language_info": {
   "codemirror_mode": {
    "name": "ipython",
    "version": 3
   },
   "file_extension": ".py",
   "mimetype": "text/x-python",
   "name": "python",
   "nbconvert_exporter": "python",
   "pygments_lexer": "ipython3",
   "version": "3.5.2"
  }
 },
 "nbformat": 4,
 "nbformat_minor": 1
}
